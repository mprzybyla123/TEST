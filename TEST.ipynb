{
 "cells": [
  {
   "cell_type": "markdown",
   "metadata": {},
   "source": [
    "# Santander Transaction Customer Prediction\n",
    "## Matthew Przybyla\n",
    "### ScaleFactor Interview"
   ]
  },
  {
   "cell_type": "markdown",
   "metadata": {},
   "source": [
    "## Theoretical Questions"
   ]
  },
  {
   "cell_type": "markdown",
   "metadata": {},
   "source": [
    "Questions:"
   ]
  },
  {
   "cell_type": "markdown",
   "metadata": {},
   "source": [
    "\"I want to be able to predict which type of customer will purchase a certain product in the future?\"\n",
    "1. What are some key pieces of information you would like to have to predict this?\n",
    "2. How would you like the data structured?\n",
    "3. What are some follow-up questions you would like to ask the business user?"
   ]
  },
  {
   "cell_type": "markdown",
   "metadata": {},
   "source": [
    "Solutions:"
   ]
  },
  {
   "cell_type": "markdown",
   "metadata": {},
   "source": [
    "1. Some key pieces of information I would like to have to predict this would be: data location/storage (i.e, Microsoft SQL Server), updated regularly/on a schedule or not, data type (continuous, binary, or categorical, as well as if it's a string, object, or int).\n",
    "\n",
    "\n",
    "2. I would like the data structured in a tabular format such that there are clearly labeled columns with their associated record values, derived from a CSV file/queried from a SQL/Hive database. From there I would read in the CSV file to a pandas dataframe so it could be used by various machine learning libraries (i.e., sklearn, TensorFlow, and Keras). A dataframe helps to dissect that data itself as well (i.e., identifying NaN's). It would also be useful to be able to run PySpark - Apache Spark from a SQL/Hive interface to draw more efficient machine learning results directly. \n",
    "\n",
    "\n",
    "3. Has someone else worked on this data before (to eliminate duplicate efforts and learn from previous worker)? Can you more clearly define the future (i.e, weeks, months)? Do you have an expectation for who would make a certain purchase? How do you think this will affect the business? Is this something that is static and applied to a one-time dataset, or does it need to be automated and connected to a live datawarehouse source? "
   ]
  },
  {
   "cell_type": "markdown",
   "metadata": {},
   "source": [
    "# 1."
   ]
  },
  {
   "cell_type": "markdown",
   "metadata": {},
   "source": [
    "# A. EDA/Preprocessing"
   ]
  },
  {
   "cell_type": "markdown",
   "metadata": {},
   "source": [
    "#### Import Initial Libraries"
   ]
  },
  {
   "cell_type": "code",
   "execution_count": 1,
   "metadata": {},
   "outputs": [],
   "source": [
    "import datetime\n",
    "import numpy as np\n",
    "import pandas as pd\n",
    "#from sklearn import cross_validation\n",
    "from sklearn.model_selection import cross_validate\n",
    "from sklearn.utils import resample\n",
    "from sklearn.linear_model import LogisticRegression\n",
    "from statsmodels.stats.outliers_influence import variance_inflation_factor\n",
    "from sklearn.model_selection import train_test_split\n",
    "from sklearn.naive_bayes import GaussianNB\n",
    "from sklearn.metrics import roc_curve, auc\n",
    "import gc\n",
    "#import matplotlib.pyplot as plt\n",
    "#import seaborn as sns\n",
    "import warnings\n",
    "warnings.filterwarnings('ignore')"
   ]
  },
  {
   "cell_type": "markdown",
   "metadata": {},
   "source": [
    "###### Import the Dataset from:\n",
    "https://www.kaggle.com/c/santander-customer-transaction-prediction"
   ]
  },
  {
   "cell_type": "code",
   "execution_count": 2,
   "metadata": {},
   "outputs": [],
   "source": [
    "test = pd.read_csv(\"C:\\\\Users\\\\mprzybyla\\\\Downloads\\\\santander-customer-transaction-prediction\\\\test.csv\")\n",
    "train = pd.read_csv(\"C:\\\\Users\\\\mprzybyla\\\\Downloads\\\\santander-customer-transaction-prediction\\\\train.csv\")"
   ]
  },
  {
   "cell_type": "code",
   "execution_count": 3,
   "metadata": {},
   "outputs": [
    {
     "data": {
      "text/html": [
       "<div>\n",
       "<style scoped>\n",
       "    .dataframe tbody tr th:only-of-type {\n",
       "        vertical-align: middle;\n",
       "    }\n",
       "\n",
       "    .dataframe tbody tr th {\n",
       "        vertical-align: top;\n",
       "    }\n",
       "\n",
       "    .dataframe thead th {\n",
       "        text-align: right;\n",
       "    }\n",
       "</style>\n",
       "<table border=\"1\" class=\"dataframe\">\n",
       "  <thead>\n",
       "    <tr style=\"text-align: right;\">\n",
       "      <th></th>\n",
       "      <th>ID_code</th>\n",
       "      <th>target</th>\n",
       "      <th>var_0</th>\n",
       "      <th>var_1</th>\n",
       "      <th>var_2</th>\n",
       "      <th>var_3</th>\n",
       "      <th>var_4</th>\n",
       "      <th>var_5</th>\n",
       "      <th>var_6</th>\n",
       "      <th>var_7</th>\n",
       "      <th>...</th>\n",
       "      <th>var_190</th>\n",
       "      <th>var_191</th>\n",
       "      <th>var_192</th>\n",
       "      <th>var_193</th>\n",
       "      <th>var_194</th>\n",
       "      <th>var_195</th>\n",
       "      <th>var_196</th>\n",
       "      <th>var_197</th>\n",
       "      <th>var_198</th>\n",
       "      <th>var_199</th>\n",
       "    </tr>\n",
       "  </thead>\n",
       "  <tbody>\n",
       "    <tr>\n",
       "      <th>0</th>\n",
       "      <td>train_0</td>\n",
       "      <td>0</td>\n",
       "      <td>8.9255</td>\n",
       "      <td>-6.7863</td>\n",
       "      <td>11.9081</td>\n",
       "      <td>5.0930</td>\n",
       "      <td>11.4607</td>\n",
       "      <td>-9.2834</td>\n",
       "      <td>5.1187</td>\n",
       "      <td>18.6266</td>\n",
       "      <td>...</td>\n",
       "      <td>4.4354</td>\n",
       "      <td>3.9642</td>\n",
       "      <td>3.1364</td>\n",
       "      <td>1.6910</td>\n",
       "      <td>18.5227</td>\n",
       "      <td>-2.3978</td>\n",
       "      <td>7.8784</td>\n",
       "      <td>8.5635</td>\n",
       "      <td>12.7803</td>\n",
       "      <td>-1.0914</td>\n",
       "    </tr>\n",
       "    <tr>\n",
       "      <th>1</th>\n",
       "      <td>train_1</td>\n",
       "      <td>0</td>\n",
       "      <td>11.5006</td>\n",
       "      <td>-4.1473</td>\n",
       "      <td>13.8588</td>\n",
       "      <td>5.3890</td>\n",
       "      <td>12.3622</td>\n",
       "      <td>7.0433</td>\n",
       "      <td>5.6208</td>\n",
       "      <td>16.5338</td>\n",
       "      <td>...</td>\n",
       "      <td>7.6421</td>\n",
       "      <td>7.7214</td>\n",
       "      <td>2.5837</td>\n",
       "      <td>10.9516</td>\n",
       "      <td>15.4305</td>\n",
       "      <td>2.0339</td>\n",
       "      <td>8.1267</td>\n",
       "      <td>8.7889</td>\n",
       "      <td>18.3560</td>\n",
       "      <td>1.9518</td>\n",
       "    </tr>\n",
       "    <tr>\n",
       "      <th>2</th>\n",
       "      <td>train_2</td>\n",
       "      <td>0</td>\n",
       "      <td>8.6093</td>\n",
       "      <td>-2.7457</td>\n",
       "      <td>12.0805</td>\n",
       "      <td>7.8928</td>\n",
       "      <td>10.5825</td>\n",
       "      <td>-9.0837</td>\n",
       "      <td>6.9427</td>\n",
       "      <td>14.6155</td>\n",
       "      <td>...</td>\n",
       "      <td>2.9057</td>\n",
       "      <td>9.7905</td>\n",
       "      <td>1.6704</td>\n",
       "      <td>1.6858</td>\n",
       "      <td>21.6042</td>\n",
       "      <td>3.1417</td>\n",
       "      <td>-6.5213</td>\n",
       "      <td>8.2675</td>\n",
       "      <td>14.7222</td>\n",
       "      <td>0.3965</td>\n",
       "    </tr>\n",
       "    <tr>\n",
       "      <th>3</th>\n",
       "      <td>train_3</td>\n",
       "      <td>0</td>\n",
       "      <td>11.0604</td>\n",
       "      <td>-2.1518</td>\n",
       "      <td>8.9522</td>\n",
       "      <td>7.1957</td>\n",
       "      <td>12.5846</td>\n",
       "      <td>-1.8361</td>\n",
       "      <td>5.8428</td>\n",
       "      <td>14.9250</td>\n",
       "      <td>...</td>\n",
       "      <td>4.4666</td>\n",
       "      <td>4.7433</td>\n",
       "      <td>0.7178</td>\n",
       "      <td>1.4214</td>\n",
       "      <td>23.0347</td>\n",
       "      <td>-1.2706</td>\n",
       "      <td>-2.9275</td>\n",
       "      <td>10.2922</td>\n",
       "      <td>17.9697</td>\n",
       "      <td>-8.9996</td>\n",
       "    </tr>\n",
       "    <tr>\n",
       "      <th>4</th>\n",
       "      <td>train_4</td>\n",
       "      <td>0</td>\n",
       "      <td>9.8369</td>\n",
       "      <td>-1.4834</td>\n",
       "      <td>12.8746</td>\n",
       "      <td>6.6375</td>\n",
       "      <td>12.2772</td>\n",
       "      <td>2.4486</td>\n",
       "      <td>5.9405</td>\n",
       "      <td>19.2514</td>\n",
       "      <td>...</td>\n",
       "      <td>-1.4905</td>\n",
       "      <td>9.5214</td>\n",
       "      <td>-0.1508</td>\n",
       "      <td>9.1942</td>\n",
       "      <td>13.2876</td>\n",
       "      <td>-1.5121</td>\n",
       "      <td>3.9267</td>\n",
       "      <td>9.5031</td>\n",
       "      <td>17.9974</td>\n",
       "      <td>-8.8104</td>\n",
       "    </tr>\n",
       "  </tbody>\n",
       "</table>\n",
       "<p>5 rows × 202 columns</p>\n",
       "</div>"
      ],
      "text/plain": [
       "   ID_code  target    var_0   var_1    var_2   var_3    var_4   var_5   var_6  \\\n",
       "0  train_0       0   8.9255 -6.7863  11.9081  5.0930  11.4607 -9.2834  5.1187   \n",
       "1  train_1       0  11.5006 -4.1473  13.8588  5.3890  12.3622  7.0433  5.6208   \n",
       "2  train_2       0   8.6093 -2.7457  12.0805  7.8928  10.5825 -9.0837  6.9427   \n",
       "3  train_3       0  11.0604 -2.1518   8.9522  7.1957  12.5846 -1.8361  5.8428   \n",
       "4  train_4       0   9.8369 -1.4834  12.8746  6.6375  12.2772  2.4486  5.9405   \n",
       "\n",
       "     var_7   ...     var_190  var_191  var_192  var_193  var_194  var_195  \\\n",
       "0  18.6266   ...      4.4354   3.9642   3.1364   1.6910  18.5227  -2.3978   \n",
       "1  16.5338   ...      7.6421   7.7214   2.5837  10.9516  15.4305   2.0339   \n",
       "2  14.6155   ...      2.9057   9.7905   1.6704   1.6858  21.6042   3.1417   \n",
       "3  14.9250   ...      4.4666   4.7433   0.7178   1.4214  23.0347  -1.2706   \n",
       "4  19.2514   ...     -1.4905   9.5214  -0.1508   9.1942  13.2876  -1.5121   \n",
       "\n",
       "   var_196  var_197  var_198  var_199  \n",
       "0   7.8784   8.5635  12.7803  -1.0914  \n",
       "1   8.1267   8.7889  18.3560   1.9518  \n",
       "2  -6.5213   8.2675  14.7222   0.3965  \n",
       "3  -2.9275  10.2922  17.9697  -8.9996  \n",
       "4   3.9267   9.5031  17.9974  -8.8104  \n",
       "\n",
       "[5 rows x 202 columns]"
      ]
     },
     "execution_count": 3,
     "metadata": {},
     "output_type": "execute_result"
    }
   ],
   "source": [
    "#Let's see how this data looks!\n",
    "train.head()"
   ]
  },
  {
   "cell_type": "code",
   "execution_count": 4,
   "metadata": {},
   "outputs": [
    {
     "data": {
      "text/plain": [
       "(200000, 202)"
      ]
     },
     "execution_count": 4,
     "metadata": {},
     "output_type": "execute_result"
    }
   ],
   "source": [
    "train.shape"
   ]
  },
  {
   "cell_type": "code",
   "execution_count": 5,
   "metadata": {},
   "outputs": [
    {
     "data": {
      "text/plain": [
       "(200000, 201)"
      ]
     },
     "execution_count": 5,
     "metadata": {},
     "output_type": "execute_result"
    }
   ],
   "source": [
    "test.shape"
   ]
  },
  {
   "cell_type": "markdown",
   "metadata": {},
   "source": [
    "Check for missing values"
   ]
  },
  {
   "cell_type": "code",
   "execution_count": 6,
   "metadata": {},
   "outputs": [],
   "source": [
    "def missing_values_table(df):\n",
    "        mis_val = df.isnull().sum()\n",
    "        mis_val_percent = 100 * df.isnull().sum() / len(df)\n",
    "        mis_val_table = pd.concat([mis_val, mis_val_percent], axis=1)\n",
    "        mis_val_table_ren_columns = mis_val_table.rename(\n",
    "        columns = {0 : 'Missing Values', 1 : '% of Total Values'})\n",
    "        mis_val_table_ren_columns = mis_val_table_ren_columns[\n",
    "            mis_val_table_ren_columns.iloc[:,1] != 0].sort_values(\n",
    "        '% of Total Values', ascending=False).round(1)\n",
    "        print (\"Your selected dataframe has \" + str(df.shape[1]) + \" columns.\\n\"      \n",
    "            \"There are \" + str(mis_val_table_ren_columns.shape[0]) +\n",
    "              \" columns that have missing values.\")\n",
    "        return mis_val_table_ren_columns"
   ]
  },
  {
   "cell_type": "code",
   "execution_count": 7,
   "metadata": {},
   "outputs": [
    {
     "name": "stdout",
     "output_type": "stream",
     "text": [
      "Your selected dataframe has 202 columns.\n",
      "There are 0 columns that have missing values.\n"
     ]
    },
    {
     "data": {
      "text/html": [
       "<div>\n",
       "<style scoped>\n",
       "    .dataframe tbody tr th:only-of-type {\n",
       "        vertical-align: middle;\n",
       "    }\n",
       "\n",
       "    .dataframe tbody tr th {\n",
       "        vertical-align: top;\n",
       "    }\n",
       "\n",
       "    .dataframe thead th {\n",
       "        text-align: right;\n",
       "    }\n",
       "</style>\n",
       "<table border=\"1\" class=\"dataframe\">\n",
       "  <thead>\n",
       "    <tr style=\"text-align: right;\">\n",
       "      <th></th>\n",
       "      <th>Missing Values</th>\n",
       "      <th>% of Total Values</th>\n",
       "    </tr>\n",
       "  </thead>\n",
       "  <tbody>\n",
       "  </tbody>\n",
       "</table>\n",
       "</div>"
      ],
      "text/plain": [
       "Empty DataFrame\n",
       "Columns: [Missing Values, % of Total Values]\n",
       "Index: []"
      ]
     },
     "execution_count": 7,
     "metadata": {},
     "output_type": "execute_result"
    }
   ],
   "source": [
    "missing_values_table(train)"
   ]
  },
  {
   "cell_type": "markdown",
   "metadata": {},
   "source": [
    "See how many of the train set is the target"
   ]
  },
  {
   "cell_type": "code",
   "execution_count": 8,
   "metadata": {},
   "outputs": [
    {
     "data": {
      "text/plain": [
       "target\n",
       "0    179902\n",
       "1     20098\n",
       "dtype: int64"
      ]
     },
     "execution_count": 8,
     "metadata": {},
     "output_type": "execute_result"
    }
   ],
   "source": [
    "train.groupby('target').size()"
   ]
  },
  {
   "cell_type": "markdown",
   "metadata": {},
   "source": [
    "Balance check and upsamplings to account for underepresentation of the model"
   ]
  },
  {
   "cell_type": "code",
   "execution_count": 9,
   "metadata": {},
   "outputs": [
    {
     "data": {
      "text/plain": [
       "1    179902\n",
       "0    179902\n",
       "Name: target, dtype: int64"
      ]
     },
     "execution_count": 9,
     "metadata": {},
     "output_type": "execute_result"
    }
   ],
   "source": [
    "# Separate majority and minority classes\n",
    "df_majority = train[train.target==0]\n",
    "df_minority = train[train.target==1]\n",
    " \n",
    "# Upsample minority class\n",
    "df_minority_upsampled = resample(df_minority, \n",
    "                                 replace=True,     # sample with replacement\n",
    "                                 n_samples=179902,    # to match majority class\n",
    "                                 random_state=123) # reproducible results\n",
    " \n",
    "# Combine majority class with upsampled minority class\n",
    "df_upsampled = pd.concat([df_majority, df_minority_upsampled])\n",
    " \n",
    "# Display new class counts\n",
    "df_upsampled.target.value_counts()"
   ]
  },
  {
   "cell_type": "markdown",
   "metadata": {},
   "source": [
    "# B. Feature Engineering/ Feature Selection"
   ]
  },
  {
   "cell_type": "markdown",
   "metadata": {},
   "source": [
    "The target variable will be y and the rest of the variables will be X"
   ]
  },
  {
   "cell_type": "code",
   "execution_count": 10,
   "metadata": {},
   "outputs": [],
   "source": [
    "y = df_upsampled['target']\n",
    "y_df = pd.DataFrame(y)"
   ]
  },
  {
   "cell_type": "code",
   "execution_count": 11,
   "metadata": {},
   "outputs": [],
   "source": [
    "X = df_upsampled.drop(columns=['target'])"
   ]
  },
  {
   "cell_type": "code",
   "execution_count": 12,
   "metadata": {},
   "outputs": [],
   "source": [
    "X = X.drop(columns=['ID_code'])"
   ]
  },
  {
   "cell_type": "code",
   "execution_count": 13,
   "metadata": {},
   "outputs": [
    {
     "data": {
      "text/plain": [
       "(359804, 200)"
      ]
     },
     "execution_count": 13,
     "metadata": {},
     "output_type": "execute_result"
    }
   ],
   "source": [
    "X.shape"
   ]
  },
  {
   "cell_type": "code",
   "execution_count": 14,
   "metadata": {},
   "outputs": [
    {
     "data": {
      "text/plain": [
       "(359804, 1)"
      ]
     },
     "execution_count": 14,
     "metadata": {},
     "output_type": "execute_result"
    }
   ],
   "source": [
    "y_df.shape"
   ]
  },
  {
   "cell_type": "code",
   "execution_count": 15,
   "metadata": {},
   "outputs": [
    {
     "data": {
      "text/plain": [
       "var_0    float64\n",
       "var_1    float64\n",
       "var_2    float64\n",
       "var_3    float64\n",
       "var_4    float64\n",
       "dtype: object"
      ]
     },
     "execution_count": 15,
     "metadata": {},
     "output_type": "execute_result"
    }
   ],
   "source": [
    "X.dtypes.head()"
   ]
  },
  {
   "cell_type": "markdown",
   "metadata": {},
   "source": [
    "#### Variable Importance using Random Forest"
   ]
  },
  {
   "cell_type": "code",
   "execution_count": 16,
   "metadata": {},
   "outputs": [
    {
     "name": "stdout",
     "output_type": "stream",
     "text": [
      "0.9999833242543162\n"
     ]
    }
   ],
   "source": [
    "from sklearn.ensemble import RandomForestClassifier\n",
    "clf = RandomForestClassifier()\n",
    "\n",
    "clf.fit(X,y_df)\n",
    "\n",
    "preds = clf.predict(X)\n",
    "\n",
    "from sklearn.metrics import accuracy_score\n",
    "accuracy = accuracy_score(preds,y_df)\n",
    "print(accuracy)"
   ]
  },
  {
   "cell_type": "code",
   "execution_count": 17,
   "metadata": {},
   "outputs": [],
   "source": [
    "VI = DataFrame(clf.feature_importances_, columns = [\"RF\"], index=X.columns)"
   ]
  },
  {
   "cell_type": "code",
   "execution_count": 18,
   "metadata": {},
   "outputs": [
    {
     "data": {
      "text/html": [
       "<div>\n",
       "<style scoped>\n",
       "    .dataframe tbody tr th:only-of-type {\n",
       "        vertical-align: middle;\n",
       "    }\n",
       "\n",
       "    .dataframe tbody tr th {\n",
       "        vertical-align: top;\n",
       "    }\n",
       "\n",
       "    .dataframe thead th {\n",
       "        text-align: right;\n",
       "    }\n",
       "</style>\n",
       "<table border=\"1\" class=\"dataframe\">\n",
       "  <thead>\n",
       "    <tr style=\"text-align: right;\">\n",
       "      <th></th>\n",
       "      <th>index</th>\n",
       "      <th>RF</th>\n",
       "    </tr>\n",
       "  </thead>\n",
       "  <tbody>\n",
       "    <tr>\n",
       "      <th>139</th>\n",
       "      <td>var_139</td>\n",
       "      <td>0.017331</td>\n",
       "    </tr>\n",
       "    <tr>\n",
       "      <th>81</th>\n",
       "      <td>var_81</td>\n",
       "      <td>0.016609</td>\n",
       "    </tr>\n",
       "    <tr>\n",
       "      <th>26</th>\n",
       "      <td>var_26</td>\n",
       "      <td>0.012650</td>\n",
       "    </tr>\n",
       "    <tr>\n",
       "      <th>12</th>\n",
       "      <td>var_12</td>\n",
       "      <td>0.011646</td>\n",
       "    </tr>\n",
       "    <tr>\n",
       "      <th>53</th>\n",
       "      <td>var_53</td>\n",
       "      <td>0.011127</td>\n",
       "    </tr>\n",
       "    <tr>\n",
       "      <th>110</th>\n",
       "      <td>var_110</td>\n",
       "      <td>0.011045</td>\n",
       "    </tr>\n",
       "    <tr>\n",
       "      <th>6</th>\n",
       "      <td>var_6</td>\n",
       "      <td>0.010408</td>\n",
       "    </tr>\n",
       "    <tr>\n",
       "      <th>174</th>\n",
       "      <td>var_174</td>\n",
       "      <td>0.010348</td>\n",
       "    </tr>\n",
       "    <tr>\n",
       "      <th>146</th>\n",
       "      <td>var_146</td>\n",
       "      <td>0.010092</td>\n",
       "    </tr>\n",
       "    <tr>\n",
       "      <th>22</th>\n",
       "      <td>var_22</td>\n",
       "      <td>0.009258</td>\n",
       "    </tr>\n",
       "    <tr>\n",
       "      <th>2</th>\n",
       "      <td>var_2</td>\n",
       "      <td>0.008889</td>\n",
       "    </tr>\n",
       "    <tr>\n",
       "      <th>166</th>\n",
       "      <td>var_166</td>\n",
       "      <td>0.008820</td>\n",
       "    </tr>\n",
       "    <tr>\n",
       "      <th>76</th>\n",
       "      <td>var_76</td>\n",
       "      <td>0.008802</td>\n",
       "    </tr>\n",
       "    <tr>\n",
       "      <th>109</th>\n",
       "      <td>var_109</td>\n",
       "      <td>0.008693</td>\n",
       "    </tr>\n",
       "    <tr>\n",
       "      <th>99</th>\n",
       "      <td>var_99</td>\n",
       "      <td>0.008276</td>\n",
       "    </tr>\n",
       "    <tr>\n",
       "      <th>190</th>\n",
       "      <td>var_190</td>\n",
       "      <td>0.008220</td>\n",
       "    </tr>\n",
       "    <tr>\n",
       "      <th>80</th>\n",
       "      <td>var_80</td>\n",
       "      <td>0.008149</td>\n",
       "    </tr>\n",
       "    <tr>\n",
       "      <th>21</th>\n",
       "      <td>var_21</td>\n",
       "      <td>0.008112</td>\n",
       "    </tr>\n",
       "    <tr>\n",
       "      <th>198</th>\n",
       "      <td>var_198</td>\n",
       "      <td>0.008062</td>\n",
       "    </tr>\n",
       "    <tr>\n",
       "      <th>133</th>\n",
       "      <td>var_133</td>\n",
       "      <td>0.007945</td>\n",
       "    </tr>\n",
       "    <tr>\n",
       "      <th>78</th>\n",
       "      <td>var_78</td>\n",
       "      <td>0.007672</td>\n",
       "    </tr>\n",
       "    <tr>\n",
       "      <th>179</th>\n",
       "      <td>var_179</td>\n",
       "      <td>0.007205</td>\n",
       "    </tr>\n",
       "    <tr>\n",
       "      <th>148</th>\n",
       "      <td>var_148</td>\n",
       "      <td>0.007117</td>\n",
       "    </tr>\n",
       "    <tr>\n",
       "      <th>165</th>\n",
       "      <td>var_165</td>\n",
       "      <td>0.007062</td>\n",
       "    </tr>\n",
       "    <tr>\n",
       "      <th>34</th>\n",
       "      <td>var_34</td>\n",
       "      <td>0.007012</td>\n",
       "    </tr>\n",
       "    <tr>\n",
       "      <th>0</th>\n",
       "      <td>var_0</td>\n",
       "      <td>0.006727</td>\n",
       "    </tr>\n",
       "    <tr>\n",
       "      <th>13</th>\n",
       "      <td>var_13</td>\n",
       "      <td>0.006664</td>\n",
       "    </tr>\n",
       "    <tr>\n",
       "      <th>44</th>\n",
       "      <td>var_44</td>\n",
       "      <td>0.006661</td>\n",
       "    </tr>\n",
       "    <tr>\n",
       "      <th>33</th>\n",
       "      <td>var_33</td>\n",
       "      <td>0.006606</td>\n",
       "    </tr>\n",
       "    <tr>\n",
       "      <th>94</th>\n",
       "      <td>var_94</td>\n",
       "      <td>0.006203</td>\n",
       "    </tr>\n",
       "    <tr>\n",
       "      <th>...</th>\n",
       "      <td>...</td>\n",
       "      <td>...</td>\n",
       "    </tr>\n",
       "    <tr>\n",
       "      <th>69</th>\n",
       "      <td>var_69</td>\n",
       "      <td>0.003705</td>\n",
       "    </tr>\n",
       "    <tr>\n",
       "      <th>19</th>\n",
       "      <td>var_19</td>\n",
       "      <td>0.003695</td>\n",
       "    </tr>\n",
       "    <tr>\n",
       "      <th>125</th>\n",
       "      <td>var_125</td>\n",
       "      <td>0.003695</td>\n",
       "    </tr>\n",
       "    <tr>\n",
       "      <th>55</th>\n",
       "      <td>var_55</td>\n",
       "      <td>0.003694</td>\n",
       "    </tr>\n",
       "    <tr>\n",
       "      <th>176</th>\n",
       "      <td>var_176</td>\n",
       "      <td>0.003693</td>\n",
       "    </tr>\n",
       "    <tr>\n",
       "      <th>73</th>\n",
       "      <td>var_73</td>\n",
       "      <td>0.003691</td>\n",
       "    </tr>\n",
       "    <tr>\n",
       "      <th>142</th>\n",
       "      <td>var_142</td>\n",
       "      <td>0.003685</td>\n",
       "    </tr>\n",
       "    <tr>\n",
       "      <th>59</th>\n",
       "      <td>var_59</td>\n",
       "      <td>0.003682</td>\n",
       "    </tr>\n",
       "    <tr>\n",
       "      <th>101</th>\n",
       "      <td>var_101</td>\n",
       "      <td>0.003672</td>\n",
       "    </tr>\n",
       "    <tr>\n",
       "      <th>7</th>\n",
       "      <td>var_7</td>\n",
       "      <td>0.003651</td>\n",
       "    </tr>\n",
       "    <tr>\n",
       "      <th>124</th>\n",
       "      <td>var_124</td>\n",
       "      <td>0.003643</td>\n",
       "    </tr>\n",
       "    <tr>\n",
       "      <th>46</th>\n",
       "      <td>var_46</td>\n",
       "      <td>0.003635</td>\n",
       "    </tr>\n",
       "    <tr>\n",
       "      <th>189</th>\n",
       "      <td>var_189</td>\n",
       "      <td>0.003634</td>\n",
       "    </tr>\n",
       "    <tr>\n",
       "      <th>41</th>\n",
       "      <td>var_41</td>\n",
       "      <td>0.003632</td>\n",
       "    </tr>\n",
       "    <tr>\n",
       "      <th>79</th>\n",
       "      <td>var_79</td>\n",
       "      <td>0.003629</td>\n",
       "    </tr>\n",
       "    <tr>\n",
       "      <th>98</th>\n",
       "      <td>var_98</td>\n",
       "      <td>0.003626</td>\n",
       "    </tr>\n",
       "    <tr>\n",
       "      <th>72</th>\n",
       "      <td>var_72</td>\n",
       "      <td>0.003622</td>\n",
       "    </tr>\n",
       "    <tr>\n",
       "      <th>160</th>\n",
       "      <td>var_160</td>\n",
       "      <td>0.003613</td>\n",
       "    </tr>\n",
       "    <tr>\n",
       "      <th>77</th>\n",
       "      <td>var_77</td>\n",
       "      <td>0.003602</td>\n",
       "    </tr>\n",
       "    <tr>\n",
       "      <th>17</th>\n",
       "      <td>var_17</td>\n",
       "      <td>0.003596</td>\n",
       "    </tr>\n",
       "    <tr>\n",
       "      <th>175</th>\n",
       "      <td>var_175</td>\n",
       "      <td>0.003580</td>\n",
       "    </tr>\n",
       "    <tr>\n",
       "      <th>60</th>\n",
       "      <td>var_60</td>\n",
       "      <td>0.003563</td>\n",
       "    </tr>\n",
       "    <tr>\n",
       "      <th>65</th>\n",
       "      <td>var_65</td>\n",
       "      <td>0.003562</td>\n",
       "    </tr>\n",
       "    <tr>\n",
       "      <th>181</th>\n",
       "      <td>var_181</td>\n",
       "      <td>0.003551</td>\n",
       "    </tr>\n",
       "    <tr>\n",
       "      <th>61</th>\n",
       "      <td>var_61</td>\n",
       "      <td>0.003509</td>\n",
       "    </tr>\n",
       "    <tr>\n",
       "      <th>11</th>\n",
       "      <td>var_11</td>\n",
       "      <td>0.003499</td>\n",
       "    </tr>\n",
       "    <tr>\n",
       "      <th>29</th>\n",
       "      <td>var_29</td>\n",
       "      <td>0.003498</td>\n",
       "    </tr>\n",
       "    <tr>\n",
       "      <th>136</th>\n",
       "      <td>var_136</td>\n",
       "      <td>0.003498</td>\n",
       "    </tr>\n",
       "    <tr>\n",
       "      <th>38</th>\n",
       "      <td>var_38</td>\n",
       "      <td>0.003451</td>\n",
       "    </tr>\n",
       "    <tr>\n",
       "      <th>3</th>\n",
       "      <td>var_3</td>\n",
       "      <td>0.003320</td>\n",
       "    </tr>\n",
       "  </tbody>\n",
       "</table>\n",
       "<p>200 rows × 2 columns</p>\n",
       "</div>"
      ],
      "text/plain": [
       "       index        RF\n",
       "139  var_139  0.017331\n",
       "81    var_81  0.016609\n",
       "26    var_26  0.012650\n",
       "12    var_12  0.011646\n",
       "53    var_53  0.011127\n",
       "110  var_110  0.011045\n",
       "6      var_6  0.010408\n",
       "174  var_174  0.010348\n",
       "146  var_146  0.010092\n",
       "22    var_22  0.009258\n",
       "2      var_2  0.008889\n",
       "166  var_166  0.008820\n",
       "76    var_76  0.008802\n",
       "109  var_109  0.008693\n",
       "99    var_99  0.008276\n",
       "190  var_190  0.008220\n",
       "80    var_80  0.008149\n",
       "21    var_21  0.008112\n",
       "198  var_198  0.008062\n",
       "133  var_133  0.007945\n",
       "78    var_78  0.007672\n",
       "179  var_179  0.007205\n",
       "148  var_148  0.007117\n",
       "165  var_165  0.007062\n",
       "34    var_34  0.007012\n",
       "0      var_0  0.006727\n",
       "13    var_13  0.006664\n",
       "44    var_44  0.006661\n",
       "33    var_33  0.006606\n",
       "94    var_94  0.006203\n",
       "..       ...       ...\n",
       "69    var_69  0.003705\n",
       "19    var_19  0.003695\n",
       "125  var_125  0.003695\n",
       "55    var_55  0.003694\n",
       "176  var_176  0.003693\n",
       "73    var_73  0.003691\n",
       "142  var_142  0.003685\n",
       "59    var_59  0.003682\n",
       "101  var_101  0.003672\n",
       "7      var_7  0.003651\n",
       "124  var_124  0.003643\n",
       "46    var_46  0.003635\n",
       "189  var_189  0.003634\n",
       "41    var_41  0.003632\n",
       "79    var_79  0.003629\n",
       "98    var_98  0.003626\n",
       "72    var_72  0.003622\n",
       "160  var_160  0.003613\n",
       "77    var_77  0.003602\n",
       "17    var_17  0.003596\n",
       "175  var_175  0.003580\n",
       "60    var_60  0.003563\n",
       "65    var_65  0.003562\n",
       "181  var_181  0.003551\n",
       "61    var_61  0.003509\n",
       "11    var_11  0.003499\n",
       "29    var_29  0.003498\n",
       "136  var_136  0.003498\n",
       "38    var_38  0.003451\n",
       "3      var_3  0.003320\n",
       "\n",
       "[200 rows x 2 columns]"
      ]
     },
     "execution_count": 18,
     "metadata": {},
     "output_type": "execute_result"
    }
   ],
   "source": [
    "VI = VI.reset_index()\n",
    "VI.sort_values(['RF'],ascending=0)"
   ]
  },
  {
   "cell_type": "markdown",
   "metadata": {},
   "source": [
    "#### Recursive Feature Elimination"
   ]
  },
  {
   "cell_type": "code",
   "execution_count": 20,
   "metadata": {},
   "outputs": [],
   "source": [
    "from sklearn.feature_selection import RFE\n",
    "from sklearn.linear_model import LogisticRegression\n",
    "\n",
    "model = LogisticRegression()\n",
    "rfe = RFE(model, 20)\n",
    "#fit = rfe.fit(X, y_df)"
   ]
  },
  {
   "cell_type": "code",
   "execution_count": null,
   "metadata": {},
   "outputs": [],
   "source": [
    "Selected = DataFrame(rfe.support_, columns = [\"RFE\"], index=X.columns)\n",
    "Selected = Selected.reset_index()"
   ]
  },
  {
   "cell_type": "code",
   "execution_count": null,
   "metadata": {},
   "outputs": [],
   "source": [
    "Selected[Selected['RFE'] == True]"
   ]
  },
  {
   "cell_type": "markdown",
   "metadata": {},
   "source": [
    "#### Variable Importance using Extratrees Classifier"
   ]
  },
  {
   "cell_type": "code",
   "execution_count": null,
   "metadata": {},
   "outputs": [],
   "source": [
    "from sklearn.ensemble import ExtraTreesClassifier\n",
    "\n",
    "model = ExtraTreesClassifier()\n",
    "model.fit(X, y_df)\n",
    "\n",
    "print(model.feature_importances_)"
   ]
  },
  {
   "cell_type": "code",
   "execution_count": null,
   "metadata": {},
   "outputs": [],
   "source": [
    "FI = DataFrame(model.feature_importances_, columns = [\"Extratrees\"], index=X.columns)"
   ]
  },
  {
   "cell_type": "code",
   "execution_count": null,
   "metadata": {},
   "outputs": [],
   "source": [
    "FI = FI.reset_index()"
   ]
  },
  {
   "cell_type": "code",
   "execution_count": null,
   "metadata": {},
   "outputs": [],
   "source": [
    "FI.sort_values(['Extratrees'],ascending=0)"
   ]
  },
  {
   "cell_type": "markdown",
   "metadata": {},
   "source": [
    "#### L1 Feature Selection"
   ]
  },
  {
   "cell_type": "code",
   "execution_count": null,
   "metadata": {},
   "outputs": [],
   "source": [
    "from sklearn.svm import LinearSVC\n",
    "from sklearn.feature_selection import SelectFromModel\n",
    "lsvc = LinearSVC(C=0.01, penalty=\"l1\", dual=False).fit(X, y_df)\n",
    "model = SelectFromModel(lsvc,prefit=True)"
   ]
  },
  {
   "cell_type": "code",
   "execution_count": null,
   "metadata": {},
   "outputs": [],
   "source": [
    "l1 = DataFrame(model.get_support(), columns = [\"L1\"], index=X.columns)\n",
    "l1 = l1.reset_index()"
   ]
  },
  {
   "cell_type": "code",
   "execution_count": null,
   "metadata": {},
   "outputs": [],
   "source": [
    "l1[l1['L1'] == True]"
   ]
  },
  {
   "cell_type": "code",
   "execution_count": null,
   "metadata": {},
   "outputs": [],
   "source": [
    "from functools import reduce\n",
    "dfs = [VI]\n",
    "final_results = reduce(lambda left,right: pd.merge(left,right,on='index'), dfs)"
   ]
  },
  {
   "cell_type": "markdown",
   "metadata": {},
   "source": [
    "Rank features based off of the four different methods."
   ]
  },
  {
   "cell_type": "code",
   "execution_count": null,
   "metadata": {},
   "outputs": [],
   "source": [
    "columns = ['RF', 'RFE', 'Extratrees', 'L1']\n",
    "\n",
    "score_table = pd.DataFrame({},[])\n",
    "score_table['index'] = final_results['index']\n",
    "\n",
    "for i in columns:\n",
    "    score_table[i] = final_results['index'].isin(list(final_results.nlargest(5,i)['index'])).astype(int)\n",
    "    \n",
    "#score_table['RFE'] = final_results['RFE'].astype(int)\n",
    "#score_table['L1'] = final_results['L1'].astype(int)"
   ]
  },
  {
   "cell_type": "code",
   "execution_count": null,
   "metadata": {},
   "outputs": [],
   "source": [
    "score_table['final_score'] = score_table.sum(axis=1)"
   ]
  },
  {
   "cell_type": "code",
   "execution_count": null,
   "metadata": {},
   "outputs": [],
   "source": [
    "score_table.sort_values('final_score',ascending=0)"
   ]
  },
  {
   "cell_type": "code",
   "execution_count": 28,
   "metadata": {},
   "outputs": [],
   "source": [
    "def calculate_vif(X):\n",
    "    vif = pd.DataFrame()\n",
    "    vif[\"Features\"] = X.columns\n",
    "    vif[\"VIF\"] = [variance_inflation_factor(X.values, i) for i in range(X.shape[1])]    \n",
    "    return(vif)"
   ]
  },
  {
   "cell_type": "code",
   "execution_count": 29,
   "metadata": {},
   "outputs": [],
   "source": [
    "X = X[list(score_table[score_table['final_score'] >= 1]['index'])]"
   ]
  },
  {
   "cell_type": "code",
   "execution_count": 30,
   "metadata": {},
   "outputs": [],
   "source": [
    "vif = calculate_vif(X)\n",
    "while vif['VIF'][vif['VIF'] > 10].any():\n",
    "    remove = vif.sort_values('VIF',ascending=0)['Features'][:1]\n",
    "    X.drop(remove,axis=1,inplace=True)\n",
    "    vif = calculate_vif(X)"
   ]
  },
  {
   "cell_type": "markdown",
   "metadata": {},
   "source": [
    "Keep only the important features that won't contribute to overfitting - that are taughtological"
   ]
  },
  {
   "cell_type": "code",
   "execution_count": 31,
   "metadata": {},
   "outputs": [
    {
     "data": {
      "text/plain": [
       "['var_26', 'var_81', 'var_110', 'var_139']"
      ]
     },
     "execution_count": 31,
     "metadata": {},
     "output_type": "execute_result"
    }
   ],
   "source": [
    "list(vif['Features'])"
   ]
  },
  {
   "cell_type": "code",
   "execution_count": 17,
   "metadata": {},
   "outputs": [],
   "source": [
    "from sklearn.model_selection import train_test_split\n",
    "X_train, X_test, y_train, y_test = train_test_split(X, y_df, test_size=0.20)\n",
    "                                                    #, \n",
    "                                                    #random_state=101)"
   ]
  },
  {
   "cell_type": "markdown",
   "metadata": {},
   "source": [
    "# C. Base Algorithm Choice and Reason for Selection"
   ]
  },
  {
   "cell_type": "markdown",
   "metadata": {},
   "source": [
    "The base algorithm was a random forest classifier because it often times works well with binary classification,\n",
    "\n",
    "\n",
    "and is more accurate as well as more robust than a decision tree - more accurate than a simple logistic regression."
   ]
  },
  {
   "cell_type": "code",
   "execution_count": 42,
   "metadata": {},
   "outputs": [],
   "source": [
    "X_train, X_test, y_df_train, y_df_test = train_test_split(X,y_df, test_size = 0.4)\n",
    "train = train.reset_index(drop=True)\n",
    "test = test.reset_index(drop=True)\n",
    "\n",
    "features_train = train[list(vif['Features'])]\n",
    "label_train = y_df['target']\n",
    "features_test = test[list(vif['Features'])]\n",
    "label_test = y_df['target']"
   ]
  },
  {
   "cell_type": "code",
   "execution_count": 43,
   "metadata": {},
   "outputs": [
    {
     "data": {
      "text/plain": [
       "(215882, 4)"
      ]
     },
     "execution_count": 43,
     "metadata": {},
     "output_type": "execute_result"
    }
   ],
   "source": [
    "X_train.shape"
   ]
  },
  {
   "cell_type": "code",
   "execution_count": 44,
   "metadata": {},
   "outputs": [
    {
     "data": {
      "text/plain": [
       "(287843, 1)"
      ]
     },
     "execution_count": 44,
     "metadata": {},
     "output_type": "execute_result"
    }
   ],
   "source": [
    "y_train.shape"
   ]
  },
  {
   "cell_type": "code",
   "execution_count": 45,
   "metadata": {},
   "outputs": [
    {
     "data": {
      "text/plain": [
       "(143922, 4)"
      ]
     },
     "execution_count": 45,
     "metadata": {},
     "output_type": "execute_result"
    }
   ],
   "source": [
    "X_test.shape"
   ]
  },
  {
   "cell_type": "code",
   "execution_count": 46,
   "metadata": {},
   "outputs": [
    {
     "data": {
      "text/plain": [
       "(71961, 1)"
      ]
     },
     "execution_count": 46,
     "metadata": {},
     "output_type": "execute_result"
    }
   ],
   "source": [
    "y_test.shape"
   ]
  },
  {
   "cell_type": "code",
   "execution_count": 49,
   "metadata": {},
   "outputs": [],
   "source": [
    "X_train = features_train\n",
    "X_test = features_test\n",
    "y_train = label_train\n",
    "y_test = label_test"
   ]
  },
  {
   "cell_type": "code",
   "execution_count": null,
   "metadata": {},
   "outputs": [],
   "source": [
    "#from sklearn.ensemble import RandomForestClassifier\n",
    "#clf = RandomForestClassifier(**rf_random.best_params_)\n",
    "\n",
    "#clf.fit(features_train,label_train)\n",
    "\n",
    "#pred_train = clf.predict(features_train)\n",
    "#pred_test = clf.predict(features_test)\n",
    "\n",
    "#from sklearn.metrics import accuracy_score\n",
    "#accuracy_train = accuracy_score(pred_train,label_train)\n",
    "#accuracy_test = accuracy_score(pred_test,label_test)\n",
    "\n",
    "#from sklearn import metrics\n",
    "#fpr, tpr, _ = metrics.roc_curve(np.array(label_train), clf.predict_proba(features_train)[:,1])\n",
    "#auc_train = metrics.auc(fpr,tpr)\n",
    "\n",
    "#fpr, tpr, _ = metrics.roc_curve(np.array(label_test), clf.predict_proba(features_test)[:,1])\n",
    "#auc_test = metrics.auc(fpr,tpr)\n",
    "\n",
    "#print(accuracy_train,accuracy_test,auc_train,auc_test)"
   ]
  },
  {
   "cell_type": "code",
   "execution_count": null,
   "metadata": {},
   "outputs": [],
   "source": [
    "#from sklearn.model_selection import RandomizedSearchCV\n",
    "#from sklearn.ensemble import RandomForestClassifier\n",
    "\n",
    "#n_estimators = [int(x) for x in np.linspace(start = 10, stop = 500, num = 10)]\n",
    "#max_features = ['auto', 'sqrt']\n",
    "#max_depth = [int(x) for x in np.linspace(3, 10, num = 1)]\n",
    "#max_depth.append(None)\n",
    "#min_samples_split = [2, 5, 10]\n",
    "#min_samples_leaf = [1, 2, 4]\n",
    "#bootstrap = [True, False]\n",
    "\n",
    "#random_grid = {'n_estimators': n_estimators,\n",
    "#               'max_features': max_features,\n",
    "#               'max_depth': max_depth,\n",
    "#               'min_samples_split': min_samples_split,\n",
    "#               'min_samples_leaf': min_samples_leaf,\n",
    "#               'bootstrap': bootstrap}\n",
    "\n",
    "#rf = RandomForestClassifier()\n",
    "\n",
    "#rf_random = RandomizedSearchCV(estimator = rf, param_distributions = random_grid, n_iter = 10, cv = 3, verbose=2, random_state=42, n_jobs = -1)\n",
    "#rf_random.fit(features_train, label_train)\n",
    "\n",
    "#print(rf_random.best_params_)"
   ]
  },
  {
   "cell_type": "code",
   "execution_count": 75,
   "metadata": {},
   "outputs": [],
   "source": [
    "param = {\n",
    "    'num_leaves': 18,\n",
    "     'max_bin': 63,\n",
    "     'min_data_in_leaf': 5,\n",
    "     'learning_rate': 0.010614430970330217,\n",
    "     'min_sum_hessian_in_leaf': 0.0093586657313989123,\n",
    "     'feature_fraction': 0.056701788569420042,\n",
    "     'lambda_l1': 0.060222413158420585,\n",
    "     'lambda_l2': 4.6580550589317573,\n",
    "     'min_gain_to_split': 0.29588543202055562,\n",
    "     'max_depth': 49,\n",
    "     'save_binary': True,\n",
    "     'seed': 1337,\n",
    "     'feature_fraction_seed': 1337,\n",
    "     'bagging_seed': 1337,\n",
    "     'drop_seed': 1337,\n",
    "     'data_random_seed': 1337,\n",
    "     'objective': 'binary',\n",
    "     'boosting_type': 'gbdt',\n",
    "     'verbose': 1,\n",
    "     'metric': 'auc',\n",
    "     'is_unbalance': True,\n",
    "     'boost_from_average': False\n",
    "}"
   ]
  },
  {
   "cell_type": "code",
   "execution_count": 76,
   "metadata": {},
   "outputs": [],
   "source": [
    "nfold = 10"
   ]
  },
  {
   "cell_type": "code",
   "execution_count": 77,
   "metadata": {},
   "outputs": [],
   "source": [
    "target = 'target'\n",
    "predictors = train.columns.values.tolist()[2:]"
   ]
  },
  {
   "cell_type": "code",
   "execution_count": 79,
   "metadata": {},
   "outputs": [
    {
     "data": {
      "text/plain": [
       "527"
      ]
     },
     "execution_count": 79,
     "metadata": {},
     "output_type": "execute_result"
    }
   ],
   "source": [
    "gc.collect()"
   ]
  },
  {
   "cell_type": "markdown",
   "metadata": {},
   "source": [
    "# D. Final Algorithm Choice"
   ]
  },
  {
   "cell_type": "code",
   "execution_count": 102,
   "metadata": {},
   "outputs": [],
   "source": [
    "from sklearn.model_selection import StratifiedKFold\n",
    "import lightgbm as lgb\n",
    "from sklearn import metrics"
   ]
  },
  {
   "cell_type": "code",
   "execution_count": null,
   "metadata": {},
   "outputs": [],
   "source": [
    "train_df = df_upsampled\n",
    "test_df = test"
   ]
  },
  {
   "cell_type": "code",
   "execution_count": 103,
   "metadata": {
    "scrolled": false
   },
   "outputs": [
    {
     "name": "stdout",
     "output_type": "stream",
     "text": [
      "\n",
      "fold 1\n",
      "[250]\tvalid_0's auc: 0.882545\n",
      "[500]\tvalid_0's auc: 0.890916\n",
      "[750]\tvalid_0's auc: 0.896247\n",
      "[1000]\tvalid_0's auc: 0.899833\n",
      "[1250]\tvalid_0's auc: 0.903193\n",
      "[1500]\tvalid_0's auc: 0.906068\n",
      "[1750]\tvalid_0's auc: 0.908837\n",
      "[2000]\tvalid_0's auc: 0.911362\n",
      "[2250]\tvalid_0's auc: 0.913906\n",
      "[2500]\tvalid_0's auc: 0.916285\n",
      "[2750]\tvalid_0's auc: 0.918456\n",
      "[3000]\tvalid_0's auc: 0.920511\n",
      "[3250]\tvalid_0's auc: 0.922519\n",
      "[3500]\tvalid_0's auc: 0.924404\n",
      "[3750]\tvalid_0's auc: 0.926144\n",
      "[4000]\tvalid_0's auc: 0.927839\n",
      "[4250]\tvalid_0's auc: 0.929501\n",
      "[4500]\tvalid_0's auc: 0.930978\n",
      "[4750]\tvalid_0's auc: 0.932494\n",
      "[5000]\tvalid_0's auc: 0.933938\n",
      "[5250]\tvalid_0's auc: 0.935292\n",
      "[5500]\tvalid_0's auc: 0.936594\n",
      "[5750]\tvalid_0's auc: 0.937846\n",
      "[6000]\tvalid_0's auc: 0.939059\n",
      "[6250]\tvalid_0's auc: 0.940295\n",
      "[6500]\tvalid_0's auc: 0.941497\n",
      "[6750]\tvalid_0's auc: 0.942632\n",
      "[7000]\tvalid_0's auc: 0.943789\n",
      "[7250]\tvalid_0's auc: 0.944886\n",
      "[7500]\tvalid_0's auc: 0.945941\n",
      "[7750]\tvalid_0's auc: 0.946998\n",
      "[8000]\tvalid_0's auc: 0.948064\n",
      "[8250]\tvalid_0's auc: 0.949072\n",
      "[8500]\tvalid_0's auc: 0.950025\n",
      "\n",
      "fold 2\n",
      "[250]\tvalid_0's auc: 0.885813\n",
      "[500]\tvalid_0's auc: 0.894433\n",
      "[750]\tvalid_0's auc: 0.899377\n",
      "[1000]\tvalid_0's auc: 0.902785\n",
      "[1250]\tvalid_0's auc: 0.906007\n",
      "[1500]\tvalid_0's auc: 0.908797\n",
      "[1750]\tvalid_0's auc: 0.911387\n",
      "[2000]\tvalid_0's auc: 0.913913\n",
      "[2250]\tvalid_0's auc: 0.916389\n",
      "[2500]\tvalid_0's auc: 0.918723\n",
      "[2750]\tvalid_0's auc: 0.920901\n",
      "[3000]\tvalid_0's auc: 0.922901\n",
      "[3250]\tvalid_0's auc: 0.924815\n",
      "[3500]\tvalid_0's auc: 0.926605\n",
      "[3750]\tvalid_0's auc: 0.928313\n",
      "[4000]\tvalid_0's auc: 0.929941\n",
      "[4250]\tvalid_0's auc: 0.931461\n",
      "[4500]\tvalid_0's auc: 0.932913\n",
      "[4750]\tvalid_0's auc: 0.934398\n",
      "[5000]\tvalid_0's auc: 0.935789\n",
      "[5250]\tvalid_0's auc: 0.937066\n",
      "[5500]\tvalid_0's auc: 0.938398\n",
      "[5750]\tvalid_0's auc: 0.939641\n",
      "[6000]\tvalid_0's auc: 0.940887\n",
      "[6250]\tvalid_0's auc: 0.94211\n",
      "[6500]\tvalid_0's auc: 0.943274\n",
      "[6750]\tvalid_0's auc: 0.944344\n",
      "[7000]\tvalid_0's auc: 0.945497\n",
      "[7250]\tvalid_0's auc: 0.946578\n",
      "[7500]\tvalid_0's auc: 0.947629\n",
      "[7750]\tvalid_0's auc: 0.948674\n",
      "[8000]\tvalid_0's auc: 0.949704\n",
      "[8250]\tvalid_0's auc: 0.950676\n",
      "[8500]\tvalid_0's auc: 0.951631\n",
      "\n",
      "fold 3\n",
      "[250]\tvalid_0's auc: 0.886162\n",
      "[500]\tvalid_0's auc: 0.894726\n",
      "[750]\tvalid_0's auc: 0.899728\n",
      "[1000]\tvalid_0's auc: 0.903127\n",
      "[1250]\tvalid_0's auc: 0.90624\n",
      "[1500]\tvalid_0's auc: 0.909114\n",
      "[1750]\tvalid_0's auc: 0.911564\n",
      "[2000]\tvalid_0's auc: 0.914129\n",
      "[2250]\tvalid_0's auc: 0.916535\n",
      "[2500]\tvalid_0's auc: 0.918879\n",
      "[2750]\tvalid_0's auc: 0.920987\n",
      "[3000]\tvalid_0's auc: 0.922915\n",
      "[3250]\tvalid_0's auc: 0.924827\n",
      "[3500]\tvalid_0's auc: 0.92659\n",
      "[3750]\tvalid_0's auc: 0.928281\n",
      "[4000]\tvalid_0's auc: 0.929896\n",
      "[4250]\tvalid_0's auc: 0.931454\n",
      "[4500]\tvalid_0's auc: 0.932935\n",
      "[4750]\tvalid_0's auc: 0.934339\n",
      "[5000]\tvalid_0's auc: 0.935762\n",
      "[5250]\tvalid_0's auc: 0.937083\n",
      "[5500]\tvalid_0's auc: 0.938357\n",
      "[5750]\tvalid_0's auc: 0.939625\n",
      "[6000]\tvalid_0's auc: 0.940852\n",
      "[6250]\tvalid_0's auc: 0.942091\n",
      "[6500]\tvalid_0's auc: 0.943262\n",
      "[6750]\tvalid_0's auc: 0.94437\n",
      "[7000]\tvalid_0's auc: 0.945523\n",
      "[7250]\tvalid_0's auc: 0.946587\n",
      "[7500]\tvalid_0's auc: 0.947609\n",
      "[7750]\tvalid_0's auc: 0.948637\n",
      "[8000]\tvalid_0's auc: 0.949665\n",
      "[8250]\tvalid_0's auc: 0.950651\n",
      "[8500]\tvalid_0's auc: 0.951601\n",
      "\n",
      "fold 4\n",
      "[250]\tvalid_0's auc: 0.886661\n",
      "[500]\tvalid_0's auc: 0.89526\n",
      "[750]\tvalid_0's auc: 0.900294\n",
      "[1000]\tvalid_0's auc: 0.903473\n",
      "[1250]\tvalid_0's auc: 0.906496\n",
      "[1500]\tvalid_0's auc: 0.90913\n",
      "[1750]\tvalid_0's auc: 0.911756\n",
      "[2000]\tvalid_0's auc: 0.9142\n",
      "[2250]\tvalid_0's auc: 0.916623\n",
      "[2500]\tvalid_0's auc: 0.9188\n",
      "[2750]\tvalid_0's auc: 0.920871\n",
      "[3000]\tvalid_0's auc: 0.922832\n",
      "[3250]\tvalid_0's auc: 0.924733\n",
      "[3500]\tvalid_0's auc: 0.92646\n",
      "[3750]\tvalid_0's auc: 0.928071\n",
      "[4000]\tvalid_0's auc: 0.929616\n",
      "[4250]\tvalid_0's auc: 0.931121\n",
      "[4500]\tvalid_0's auc: 0.932542\n",
      "[4750]\tvalid_0's auc: 0.933916\n",
      "[5000]\tvalid_0's auc: 0.935246\n",
      "[5250]\tvalid_0's auc: 0.936548\n",
      "[5500]\tvalid_0's auc: 0.937827\n",
      "[5750]\tvalid_0's auc: 0.939062\n",
      "[6000]\tvalid_0's auc: 0.940278\n",
      "[6250]\tvalid_0's auc: 0.941466\n",
      "[6500]\tvalid_0's auc: 0.942614\n",
      "[6750]\tvalid_0's auc: 0.943768\n",
      "[7000]\tvalid_0's auc: 0.944895\n",
      "[7250]\tvalid_0's auc: 0.945956\n",
      "[7500]\tvalid_0's auc: 0.946948\n",
      "[7750]\tvalid_0's auc: 0.947962\n",
      "[8000]\tvalid_0's auc: 0.948996\n",
      "[8250]\tvalid_0's auc: 0.949924\n",
      "[8500]\tvalid_0's auc: 0.95088\n",
      "\n",
      "fold 5\n",
      "[250]\tvalid_0's auc: 0.88501\n",
      "[500]\tvalid_0's auc: 0.893781\n",
      "[750]\tvalid_0's auc: 0.899062\n",
      "[1000]\tvalid_0's auc: 0.902184\n",
      "[1250]\tvalid_0's auc: 0.90536\n",
      "[1500]\tvalid_0's auc: 0.908137\n",
      "[1750]\tvalid_0's auc: 0.910716\n",
      "[2000]\tvalid_0's auc: 0.913218\n",
      "[2250]\tvalid_0's auc: 0.915586\n",
      "[2500]\tvalid_0's auc: 0.917974\n",
      "[2750]\tvalid_0's auc: 0.920041\n",
      "[3000]\tvalid_0's auc: 0.922028\n",
      "[3250]\tvalid_0's auc: 0.924034\n",
      "[3500]\tvalid_0's auc: 0.92579\n",
      "[3750]\tvalid_0's auc: 0.927487\n",
      "[4000]\tvalid_0's auc: 0.929017\n",
      "[4250]\tvalid_0's auc: 0.930568\n",
      "[4500]\tvalid_0's auc: 0.931998\n",
      "[4750]\tvalid_0's auc: 0.933417\n",
      "[5000]\tvalid_0's auc: 0.934793\n",
      "[5250]\tvalid_0's auc: 0.936066\n",
      "[5500]\tvalid_0's auc: 0.937301\n",
      "[5750]\tvalid_0's auc: 0.938556\n",
      "[6000]\tvalid_0's auc: 0.939792\n",
      "[6250]\tvalid_0's auc: 0.94096\n",
      "[6500]\tvalid_0's auc: 0.942135\n",
      "[6750]\tvalid_0's auc: 0.943265\n",
      "[7000]\tvalid_0's auc: 0.944376\n",
      "[7250]\tvalid_0's auc: 0.945452\n",
      "[7500]\tvalid_0's auc: 0.946486\n",
      "[7750]\tvalid_0's auc: 0.947539\n",
      "[8000]\tvalid_0's auc: 0.94858\n",
      "[8250]\tvalid_0's auc: 0.949574\n",
      "[8500]\tvalid_0's auc: 0.950495\n",
      "\n",
      "fold 6\n",
      "[250]\tvalid_0's auc: 0.887308\n",
      "[500]\tvalid_0's auc: 0.895284\n",
      "[750]\tvalid_0's auc: 0.900451\n",
      "[1000]\tvalid_0's auc: 0.9038\n",
      "[1250]\tvalid_0's auc: 0.907032\n",
      "[1500]\tvalid_0's auc: 0.90996\n",
      "[1750]\tvalid_0's auc: 0.912713\n",
      "[2000]\tvalid_0's auc: 0.91533\n",
      "[2250]\tvalid_0's auc: 0.917832\n",
      "[2500]\tvalid_0's auc: 0.920144\n",
      "[2750]\tvalid_0's auc: 0.922321\n",
      "[3000]\tvalid_0's auc: 0.924365\n",
      "[3250]\tvalid_0's auc: 0.926377\n",
      "[3500]\tvalid_0's auc: 0.928116\n",
      "[3750]\tvalid_0's auc: 0.929725\n",
      "[4000]\tvalid_0's auc: 0.931284\n",
      "[4250]\tvalid_0's auc: 0.932862\n",
      "[4500]\tvalid_0's auc: 0.934264\n",
      "[4750]\tvalid_0's auc: 0.935703\n",
      "[5000]\tvalid_0's auc: 0.937068\n",
      "[5250]\tvalid_0's auc: 0.938335\n",
      "[5500]\tvalid_0's auc: 0.939568\n",
      "[5750]\tvalid_0's auc: 0.940778\n",
      "[6000]\tvalid_0's auc: 0.941976\n",
      "[6250]\tvalid_0's auc: 0.943114\n",
      "[6500]\tvalid_0's auc: 0.944248\n",
      "[6750]\tvalid_0's auc: 0.945399\n",
      "[7000]\tvalid_0's auc: 0.94646\n",
      "[7250]\tvalid_0's auc: 0.947483\n",
      "[7500]\tvalid_0's auc: 0.9485\n",
      "[7750]\tvalid_0's auc: 0.949468\n",
      "[8000]\tvalid_0's auc: 0.950451\n",
      "[8250]\tvalid_0's auc: 0.951416\n",
      "[8500]\tvalid_0's auc: 0.952333\n",
      "\n",
      "fold 7\n",
      "[250]\tvalid_0's auc: 0.885561\n",
      "[500]\tvalid_0's auc: 0.894578\n",
      "[750]\tvalid_0's auc: 0.899447\n",
      "[1000]\tvalid_0's auc: 0.902876\n",
      "[1250]\tvalid_0's auc: 0.906204\n",
      "[1500]\tvalid_0's auc: 0.909115\n",
      "[1750]\tvalid_0's auc: 0.91179\n",
      "[2000]\tvalid_0's auc: 0.914341\n",
      "[2250]\tvalid_0's auc: 0.916843\n",
      "[2500]\tvalid_0's auc: 0.91921\n",
      "[2750]\tvalid_0's auc: 0.921355\n",
      "[3000]\tvalid_0's auc: 0.92333\n",
      "[3250]\tvalid_0's auc: 0.92524\n",
      "[3500]\tvalid_0's auc: 0.92696\n",
      "[3750]\tvalid_0's auc: 0.928619\n",
      "[4000]\tvalid_0's auc: 0.930205\n",
      "[4250]\tvalid_0's auc: 0.931764\n",
      "[4500]\tvalid_0's auc: 0.93318\n",
      "[4750]\tvalid_0's auc: 0.934621\n",
      "[5000]\tvalid_0's auc: 0.935992\n",
      "[5250]\tvalid_0's auc: 0.937344\n",
      "[5500]\tvalid_0's auc: 0.938605\n",
      "[5750]\tvalid_0's auc: 0.939865\n",
      "[6000]\tvalid_0's auc: 0.941082\n",
      "[6250]\tvalid_0's auc: 0.942286\n",
      "[6500]\tvalid_0's auc: 0.943457\n",
      "[6750]\tvalid_0's auc: 0.944562\n",
      "[7000]\tvalid_0's auc: 0.945647\n",
      "[7250]\tvalid_0's auc: 0.946708\n",
      "[7500]\tvalid_0's auc: 0.947796\n",
      "[7750]\tvalid_0's auc: 0.948819\n",
      "[8000]\tvalid_0's auc: 0.949841\n",
      "[8250]\tvalid_0's auc: 0.950837\n",
      "[8500]\tvalid_0's auc: 0.951789\n",
      "\n",
      "fold 8\n",
      "[250]\tvalid_0's auc: 0.884209\n",
      "[500]\tvalid_0's auc: 0.89315\n",
      "[750]\tvalid_0's auc: 0.898439\n",
      "[1000]\tvalid_0's auc: 0.901793\n",
      "[1250]\tvalid_0's auc: 0.904886\n",
      "[1500]\tvalid_0's auc: 0.907609\n",
      "[1750]\tvalid_0's auc: 0.910261\n",
      "[2000]\tvalid_0's auc: 0.912743\n",
      "[2250]\tvalid_0's auc: 0.915264\n",
      "[2500]\tvalid_0's auc: 0.917598\n",
      "[2750]\tvalid_0's auc: 0.919801\n",
      "[3000]\tvalid_0's auc: 0.921802\n",
      "[3250]\tvalid_0's auc: 0.923734\n",
      "[3500]\tvalid_0's auc: 0.925457\n",
      "[3750]\tvalid_0's auc: 0.927132\n",
      "[4000]\tvalid_0's auc: 0.928686\n",
      "[4250]\tvalid_0's auc: 0.930246\n",
      "[4500]\tvalid_0's auc: 0.931674\n",
      "[4750]\tvalid_0's auc: 0.933073\n",
      "[5000]\tvalid_0's auc: 0.934462\n",
      "[5250]\tvalid_0's auc: 0.935813\n",
      "[5500]\tvalid_0's auc: 0.937129\n",
      "[5750]\tvalid_0's auc: 0.938397\n",
      "[6000]\tvalid_0's auc: 0.939645\n",
      "[6250]\tvalid_0's auc: 0.940896\n",
      "[6500]\tvalid_0's auc: 0.942044\n"
     ]
    },
    {
     "name": "stdout",
     "output_type": "stream",
     "text": [
      "[6750]\tvalid_0's auc: 0.943122\n",
      "[7000]\tvalid_0's auc: 0.944208\n",
      "[7250]\tvalid_0's auc: 0.945311\n",
      "[7500]\tvalid_0's auc: 0.946358\n",
      "[7750]\tvalid_0's auc: 0.947369\n",
      "[8000]\tvalid_0's auc: 0.948383\n",
      "[8250]\tvalid_0's auc: 0.949331\n",
      "[8500]\tvalid_0's auc: 0.950272\n",
      "\n",
      "fold 9\n",
      "[250]\tvalid_0's auc: 0.883927\n",
      "[500]\tvalid_0's auc: 0.892401\n",
      "[750]\tvalid_0's auc: 0.897988\n",
      "[1000]\tvalid_0's auc: 0.901382\n",
      "[1250]\tvalid_0's auc: 0.904712\n",
      "[1500]\tvalid_0's auc: 0.907599\n",
      "[1750]\tvalid_0's auc: 0.910306\n",
      "[2000]\tvalid_0's auc: 0.912798\n",
      "[2250]\tvalid_0's auc: 0.915371\n",
      "[2500]\tvalid_0's auc: 0.917658\n",
      "[2750]\tvalid_0's auc: 0.919799\n",
      "[3000]\tvalid_0's auc: 0.921816\n",
      "[3250]\tvalid_0's auc: 0.923738\n",
      "[3500]\tvalid_0's auc: 0.925528\n",
      "[3750]\tvalid_0's auc: 0.927219\n",
      "[4000]\tvalid_0's auc: 0.928795\n",
      "[4250]\tvalid_0's auc: 0.930339\n",
      "[4500]\tvalid_0's auc: 0.931844\n",
      "[4750]\tvalid_0's auc: 0.933283\n",
      "[5000]\tvalid_0's auc: 0.934664\n",
      "[5250]\tvalid_0's auc: 0.935978\n",
      "[5500]\tvalid_0's auc: 0.937266\n",
      "[5750]\tvalid_0's auc: 0.938552\n",
      "[6000]\tvalid_0's auc: 0.939789\n",
      "[6250]\tvalid_0's auc: 0.941001\n",
      "[6500]\tvalid_0's auc: 0.942182\n",
      "[6750]\tvalid_0's auc: 0.943298\n",
      "[7000]\tvalid_0's auc: 0.944441\n",
      "[7250]\tvalid_0's auc: 0.945564\n",
      "[7500]\tvalid_0's auc: 0.946593\n",
      "[7750]\tvalid_0's auc: 0.947629\n",
      "[8000]\tvalid_0's auc: 0.948663\n",
      "[8250]\tvalid_0's auc: 0.949689\n",
      "[8500]\tvalid_0's auc: 0.950649\n",
      "\n",
      "fold 10\n",
      "[250]\tvalid_0's auc: 0.885891\n",
      "[500]\tvalid_0's auc: 0.894297\n",
      "[750]\tvalid_0's auc: 0.89941\n",
      "[1000]\tvalid_0's auc: 0.902626\n",
      "[1250]\tvalid_0's auc: 0.905798\n",
      "[1500]\tvalid_0's auc: 0.908427\n",
      "[1750]\tvalid_0's auc: 0.910953\n",
      "[2000]\tvalid_0's auc: 0.913416\n",
      "[2250]\tvalid_0's auc: 0.915871\n",
      "[2500]\tvalid_0's auc: 0.918083\n",
      "[2750]\tvalid_0's auc: 0.920177\n",
      "[3000]\tvalid_0's auc: 0.922082\n",
      "[3250]\tvalid_0's auc: 0.923919\n",
      "[3500]\tvalid_0's auc: 0.925702\n",
      "[3750]\tvalid_0's auc: 0.927346\n",
      "[4000]\tvalid_0's auc: 0.928874\n",
      "[4250]\tvalid_0's auc: 0.930402\n",
      "[4500]\tvalid_0's auc: 0.931832\n",
      "[4750]\tvalid_0's auc: 0.933206\n",
      "[5000]\tvalid_0's auc: 0.934543\n",
      "[5250]\tvalid_0's auc: 0.93581\n",
      "[5500]\tvalid_0's auc: 0.937055\n",
      "[5750]\tvalid_0's auc: 0.938262\n",
      "[6000]\tvalid_0's auc: 0.939448\n",
      "[6250]\tvalid_0's auc: 0.940656\n",
      "[6500]\tvalid_0's auc: 0.941771\n",
      "[6750]\tvalid_0's auc: 0.942823\n",
      "[7000]\tvalid_0's auc: 0.943936\n",
      "[7250]\tvalid_0's auc: 0.94501\n",
      "[7500]\tvalid_0's auc: 0.946033\n",
      "[7750]\tvalid_0's auc: 0.947009\n",
      "[8000]\tvalid_0's auc: 0.948008\n",
      "[8250]\tvalid_0's auc: 0.948935\n",
      "[8500]\tvalid_0's auc: 0.949871\n",
      "\n",
      "\n",
      "CV AUC: 0.9510\n"
     ]
    }
   ],
   "source": [
    "skf = StratifiedKFold(n_splits=nfold, shuffle=True, random_state=2019)\n",
    "\n",
    "oof = np.zeros(len(train_df))\n",
    "predictions = np.zeros(len(test_df))\n",
    "\n",
    "i = 1\n",
    "for train_index, valid_index in skf.split(train_df, train_df.target.values):\n",
    "    print(\"\\nfold {}\".format(i))\n",
    "    xg_train = lgb.Dataset(train_df.iloc[train_index][predictors].values,\n",
    "                           label=train_df.iloc[train_index][target].values,\n",
    "                           feature_name=predictors,\n",
    "                           free_raw_data = False\n",
    "                           )\n",
    "    xg_valid = lgb.Dataset(train_df.iloc[valid_index][predictors].values,\n",
    "                           label=train_df.iloc[valid_index][target].values,\n",
    "                           feature_name=predictors,\n",
    "                           free_raw_data = False\n",
    "                           )   \n",
    "\n",
    "    nround = 8523\n",
    "    clf = lgb.train(param, xg_train, nround, valid_sets = [xg_valid], verbose_eval=250)\n",
    "    oof[valid_index] = clf.predict(train_df.iloc[valid_index][predictors].values, num_iteration=nround) \n",
    "    \n",
    "    predictions += clf.predict(test_df[predictors], num_iteration=nround) / nfold\n",
    "    i = i + 1\n",
    "\n",
    "print(\"\\n\\nCV AUC: {:<0.4f}\".format(metrics.roc_auc_score(train_df.target.values, oof)))"
   ]
  },
  {
   "cell_type": "code",
   "execution_count": 104,
   "metadata": {},
   "outputs": [
    {
     "data": {
      "text/html": [
       "<div>\n",
       "<style scoped>\n",
       "    .dataframe tbody tr th:only-of-type {\n",
       "        vertical-align: middle;\n",
       "    }\n",
       "\n",
       "    .dataframe tbody tr th {\n",
       "        vertical-align: top;\n",
       "    }\n",
       "\n",
       "    .dataframe thead th {\n",
       "        text-align: right;\n",
       "    }\n",
       "</style>\n",
       "<table border=\"1\" class=\"dataframe\">\n",
       "  <thead>\n",
       "    <tr style=\"text-align: right;\">\n",
       "      <th></th>\n",
       "      <th>ID_code</th>\n",
       "      <th>target</th>\n",
       "    </tr>\n",
       "  </thead>\n",
       "  <tbody>\n",
       "    <tr>\n",
       "      <th>0</th>\n",
       "      <td>test_0</td>\n",
       "      <td>0.411585</td>\n",
       "    </tr>\n",
       "    <tr>\n",
       "      <th>1</th>\n",
       "      <td>test_1</td>\n",
       "      <td>0.618437</td>\n",
       "    </tr>\n",
       "    <tr>\n",
       "      <th>2</th>\n",
       "      <td>test_2</td>\n",
       "      <td>0.655906</td>\n",
       "    </tr>\n",
       "    <tr>\n",
       "      <th>3</th>\n",
       "      <td>test_3</td>\n",
       "      <td>0.616794</td>\n",
       "    </tr>\n",
       "    <tr>\n",
       "      <th>4</th>\n",
       "      <td>test_4</td>\n",
       "      <td>0.195337</td>\n",
       "    </tr>\n",
       "    <tr>\n",
       "      <th>5</th>\n",
       "      <td>test_5</td>\n",
       "      <td>0.008660</td>\n",
       "    </tr>\n",
       "    <tr>\n",
       "      <th>6</th>\n",
       "      <td>test_6</td>\n",
       "      <td>0.035428</td>\n",
       "    </tr>\n",
       "    <tr>\n",
       "      <th>7</th>\n",
       "      <td>test_7</td>\n",
       "      <td>0.540036</td>\n",
       "    </tr>\n",
       "    <tr>\n",
       "      <th>8</th>\n",
       "      <td>test_8</td>\n",
       "      <td>0.011174</td>\n",
       "    </tr>\n",
       "    <tr>\n",
       "      <th>9</th>\n",
       "      <td>test_9</td>\n",
       "      <td>0.037880</td>\n",
       "    </tr>\n",
       "  </tbody>\n",
       "</table>\n",
       "</div>"
      ],
      "text/plain": [
       "  ID_code    target\n",
       "0  test_0  0.411585\n",
       "1  test_1  0.618437\n",
       "2  test_2  0.655906\n",
       "3  test_3  0.616794\n",
       "4  test_4  0.195337\n",
       "5  test_5  0.008660\n",
       "6  test_6  0.035428\n",
       "7  test_7  0.540036\n",
       "8  test_8  0.011174\n",
       "9  test_9  0.037880"
      ]
     },
     "execution_count": 104,
     "metadata": {},
     "output_type": "execute_result"
    }
   ],
   "source": [
    "sub_df = pd.DataFrame({\"ID_code\": test_df.ID_code.values})\n",
    "sub_df[\"target\"] = predictions\n",
    "sub_df[:10]"
   ]
  },
  {
   "cell_type": "code",
   "execution_count": 105,
   "metadata": {},
   "outputs": [],
   "source": [
    "sub_df.to_csv(\"C:\\\\Users\\\\mprzybyla\\\\Downloads\\\\Customer_Transaction.csv\", index=False)"
   ]
  },
  {
   "cell_type": "markdown",
   "metadata": {},
   "source": [
    "My AUC went up to 95% with an 89% accuracy on the test set on the Kaggle website competition. I have room for improvement,\n",
    "\n",
    "with more time I could run the model with different parameters and possibly use more feature selection engineering.\n",
    "\n",
    "However, my computer is just about to explode/and or freeze and I think I did pretty well!"
   ]
  },
  {
   "cell_type": "markdown",
   "metadata": {},
   "source": [
    "Currently ranked at the top 50% for 2 uploads\n",
    "\n",
    "https://www.kaggle.com/mprzybyla123"
   ]
  },
  {
   "cell_type": "markdown",
   "metadata": {},
   "source": [
    "Appendix"
   ]
  },
  {
   "cell_type": "code",
   "execution_count": 583,
   "metadata": {},
   "outputs": [],
   "source": [
    "#cm = confusion_matrix(y_test, pred_test)"
   ]
  },
  {
   "cell_type": "code",
   "execution_count": 585,
   "metadata": {},
   "outputs": [],
   "source": [
    "#from sklearn.metrics import classification_report"
   ]
  },
  {
   "cell_type": "code",
   "execution_count": null,
   "metadata": {},
   "outputs": [],
   "source": [
    "#target_names = ['not target', 'target']\n",
    "#print(classification_report(y_test, pred_test, target_names=target_names))"
   ]
  },
  {
   "cell_type": "code",
   "execution_count": null,
   "metadata": {},
   "outputs": [],
   "source": [
    "#from sklearn.metrics import mean_squared_error"
   ]
  },
  {
   "cell_type": "code",
   "execution_count": null,
   "metadata": {},
   "outputs": [],
   "source": [
    "#mean_squared_error(y_test, pred_test)"
   ]
  },
  {
   "cell_type": "code",
   "execution_count": 589,
   "metadata": {},
   "outputs": [],
   "source": [
    "#from sklearn.metrics import balanced_accuracy_score"
   ]
  },
  {
   "cell_type": "code",
   "execution_count": null,
   "metadata": {},
   "outputs": [],
   "source": [
    "#balanced_accuracy_score(y_test, pred_test)"
   ]
  },
  {
   "cell_type": "code",
   "execution_count": null,
   "metadata": {},
   "outputs": [],
   "source": [
    "#tn, fp, fn, tp = confusion_matrix(y_test, pred_test).ravel()\n",
    "#tn, fp, fn, tp"
   ]
  },
  {
   "cell_type": "code",
   "execution_count": null,
   "metadata": {},
   "outputs": [],
   "source": [
    "#plot_confusion_matrix(cm,\n",
    "#                      normalize    = False,\n",
    "#                      target_names = ['not target', 'target'],\n",
    "#                      title        = \"Confusion Matrix\")"
   ]
  },
  {
   "cell_type": "code",
   "execution_count": null,
   "metadata": {},
   "outputs": [],
   "source": [
    "#plot_confusion_matrix(cm,\n",
    "#                      normalize    = True,\n",
    "#                      target_names = ['not target', 'target'],\n",
    "#                      title        = \"Confusion Matrix, Normalized\")"
   ]
  },
  {
   "cell_type": "markdown",
   "metadata": {},
   "source": [
    "# 2. How are you avoiding overfitting and underfitting?"
   ]
  },
  {
   "attachments": {
    "fitting.png": {
     "image/png": "[encoded data removed]"
    }
   },
   "cell_type": "markdown",
   "metadata": {},
   "source": [
    "To avoid overfitting, I used a variance inflation factor methodology of eliminating highly correlated or multicolinearity \n",
    "\n",
    "variables. To avoid underfitting, I upsampled the data so that the model was not just predicting target, but also non \n",
    "\n",
    "target, as well as K - folds cross validation and regularization for both problems.\n",
    "\n",
    "Below is a valuable demonstration of these issues in terms of understanding.\n",
    "\n",
    "![fitting.png](attachment:fitting.png)"
   ]
  },
  {
   "cell_type": "markdown",
   "metadata": {},
   "source": [
    "# 3. What cleansings steps did you need to take, if any?"
   ]
  },
  {
   "cell_type": "markdown",
   "metadata": {},
   "source": [
    "I created a missing value table function that displayed the percent of each column in terms of NaN's, \n",
    "\n",
    "although every row was filled so, it proved to be an appropriate dataset. "
   ]
  },
  {
   "cell_type": "markdown",
   "metadata": {},
   "source": [
    "# 4. If you were working with a team of developers how would you hand off \n",
    "\n",
    "## your current code to them to apply in production?"
   ]
  },
  {
   "cell_type": "markdown",
   "metadata": {},
   "source": [
    "I would save my model using joblib dump. If the developers were using Spark, I could run the model in PySpark that would \n",
    "\n",
    "directly draw the data in from a SQL data source. Another resource to use would be GitHub, where the code could be \n",
    "\n",
    "complied/saved by breaking up the code into smaller pieces, grouping functions, version control, commenting code, \n",
    "\n",
    "and reviewing it, before handing it off to be implemented in production and automation "
   ]
  },
  {
   "cell_type": "markdown",
   "metadata": {},
   "source": [
    "# 5. What are some downsides to not knowing what the variables mean, \n",
    "\n",
    "## what are some upside?"
   ]
  },
  {
   "cell_type": "markdown",
   "metadata": {},
   "source": [
    "Some downsides to not knowing what the variables mean is not having a general familiarity of them, which could give you \n",
    "\n",
    "a better intrepetable result (i.e., coefficent of var_29 at .70 would not have the same affect as saying a 1 unit\n",
    "                             \n",
    "increase in year of age results in a 70% increase in target or a 70% of a target can be attributed to an increase\n",
    "                             \n",
    "or decrease in age). An upside is that the bias of the variables would be lost, as in it could be more\n",
    "\n",
    "influential to use/keep a certain variable because you think it's important when in fact it's not."
   ]
  },
  {
   "cell_type": "markdown",
   "metadata": {},
   "source": [
    "# 6. Did you review any code from the Kaggle competition that influenced \n",
    "\n",
    "## your current approach and code? If so, please provide any discussion you reviews and\n",
    "\n",
    "### how it influenced your approach. FYI this is not a trick question, we fully expect you to\n",
    "\n",
    "#### take advantage of the work done before you."
   ]
  },
  {
   "cell_type": "markdown",
   "metadata": {},
   "source": [
    "https://www.kaggle.com/deepak525/best-parameters-lb-0-900"
   ]
  },
  {
   "cell_type": "markdown",
   "metadata": {},
   "source": [
    "Most of the Kaggle competition code was more of less the same, with differeing parameters for a LGB model.\n",
    "\n",
    "My work was done more with looking at other algorithms to compare as well as upsampling to see if that\n",
    "\n",
    "had an effect, while also incorparting my own best parameters grid search."
   ]
  }
 ],
 "metadata": {
  "kernelspec": {
   "display_name": "Python 3",
   "language": "python",
   "name": "python3"
  },
  "language_info": {
   "codemirror_mode": {
    "name": "ipython",
    "version": 3
   },
   "file_extension": ".py",
   "mimetype": "text/x-python",
   "name": "python",
   "nbconvert_exporter": "python",
   "pygments_lexer": "ipython3",
   "version": "3.6.5"
  }
 },
 "nbformat": 4,
 "nbformat_minor": 2
}
